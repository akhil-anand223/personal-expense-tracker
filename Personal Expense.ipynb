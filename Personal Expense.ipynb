{
 "cells": [
  {
   "cell_type": "code",
   "execution_count": 58,
   "id": "058e17ab-bdf2-41da-8d6a-806269795b91",
   "metadata": {},
   "outputs": [
    {
     "name": "stdout",
     "output_type": "stream",
     "text": [
      "Hello Anand Akhil, Welcome to your own personal expense tracker.\n",
      "Please input 1 for View all expenses\n",
      "Please input 2 for Add expense\n",
      "Please input 3 to Delete expense\n",
      "Please input 4 to View Summary of current month\n"
     ]
    },
    {
     "name": "stdin",
     "output_type": "stream",
     "text": [
      "Please enter a value:  4\n"
     ]
    },
    {
     "name": "stdout",
     "output_type": "stream",
     "text": [
      "Total expense for 03-2025: 9750.0\n",
      "'Food': 1800.0\n",
      "'Utility Bill': 7300.0\n",
      "'Entertainment: 650.0\n"
     ]
    }
   ],
   "source": [
    "import datetime\n",
    "\n",
    "def welcome_message(name):\n",
    "    print('Hello {}, Welcome to your own personal expense tracker.'.format(name))\n",
    "\n",
    "def menu_items():\n",
    "    print('Please input 1 for View all expenses')\n",
    "    print('Please input 2 for Add expense')\n",
    "    print('Please input 3 to Delete expense')\n",
    "    print('Please input 4 to View Summary of current month')\n",
    "    mod=int(input('Please enter a value: '))\n",
    "    if (mod == 1): \n",
    "        view_expenses()\n",
    "    elif (mod == 2):\n",
    "        add_expense()\n",
    "    elif (mod == 3):\n",
    "        delete_expense()\n",
    "    elif (mod == 4):\n",
    "        monthly_summary()\n",
    "\n",
    "def view_expenses() :\n",
    "    with open('expenses.csv', 'r') as fp :\n",
    "        contents = fp.readlines()\n",
    "        for line in contents[1:]:\n",
    "            ex_date,ex_cat, ex_des, ex_amt = line.split(',')\n",
    "            print('Expense Date {}, Expense Category {}, Expense Description {} and Expsense Amount {}'.format(ex_date,ex_cat, ex_des, ex_amt))\n",
    "        fp.close()\n",
    "\n",
    "\n",
    "def add_expense() :\n",
    "    print('To add an expense, Please enter the date in dd-mm-yyyy format, Please enter Category, Please enter Description and Amount')\n",
    "    exD = input('Please enter the date in dd-mm-yyyy format')\n",
    "    exC = input('Please enter Category (dont include quotes)')\n",
    "    exDes= input('Please enter Description (dont include quotes)')\n",
    "    exA= float(input('Please enter Amount (float)'))\n",
    "    add_expense_file(exD,exC, exDes,exA)\n",
    "    \n",
    "def delete_expense() :\n",
    "    print('To delete an expense, please enter following')\n",
    "    ex_date = input('Please enter Date (dd-mm-yyyy format : )')\n",
    "    ex_cat = input('Please enter Category (dont include quotes): ')\n",
    "    ex_des = input('Please enter Description (dont include quotes): ')\n",
    "    ex_amt = float(input('Please enter Amount: '))\n",
    "    del_expen(ex_date, ex_cat, ex_des, ex_amt)\n",
    "\n",
    "def del_expen(ex_date, ex_cat, ex_des, ex_amt):\n",
    "    ex_cat = \"'\" + ex_cat + \"'\"\n",
    "    ex_des = \"'\" + ex_des + \"'\"\n",
    "    lines = []\n",
    "    with open('expenses.csv', 'r') as file:\n",
    "        lines = file.readlines()\n",
    "    with open('expenses.csv', 'w') as file:\n",
    "        for line in lines:\n",
    "            if line.strip() != f'{ex_date},{ex_cat},{ex_des},{ex_amt}':\n",
    "                file.write(line)\n",
    "    \n",
    "\n",
    "\n",
    "def add_expense_file(exD,exC, exDes,exA) :\n",
    "    with open('expenses.csv', 'a') as fp :\n",
    "        content = exD + ',' + \"'\" + exC + \"'\" + ',' + \"'\" + exDes + \"'\" + ',' +  str(exA) + '\\n'\n",
    "        print(content)\n",
    "        fp.write(content)\n",
    "        fp.close()\n",
    "\n",
    "\n",
    "def monthly_summary():\n",
    "    current_month = datetime.datetime.now().strftime('%m-%Y')\n",
    "    total_expense = 0.0\n",
    "    category_expense = {}\n",
    "\n",
    "    with open('expenses.csv', 'r') as file:\n",
    "        lines = file.readlines()\n",
    "        for line in lines[1:]:\n",
    "            data = line.strip().split(',')\n",
    "            if data[0].endswith(current_month):\n",
    "                amount = float(data[3])\n",
    "                category = data[1]\n",
    "                total_expense += amount\n",
    "                if category in category_expense:\n",
    "                    category_expense[category] += amount\n",
    "                else:\n",
    "                    category_expense[category] = amount\n",
    "\n",
    "    print(f'Total expense for {current_month}: {total_expense}')\n",
    "    for category, amount in category_expense.items():\n",
    "        print(f'{category}: {amount}')\n",
    "\n",
    "\n",
    "\n",
    "welcome_message('Anand Akhil')\n",
    "menu_items()\n",
    "\n"
   ]
  },
  {
   "cell_type": "code",
   "execution_count": null,
   "id": "b962a816-bfe5-4a5b-8a04-c09ed13257ee",
   "metadata": {},
   "outputs": [],
   "source": []
  }
 ],
 "metadata": {
  "kernelspec": {
   "display_name": "Python [conda env:base] *",
   "language": "python",
   "name": "conda-base-py"
  },
  "language_info": {
   "codemirror_mode": {
    "name": "ipython",
    "version": 3
   },
   "file_extension": ".py",
   "mimetype": "text/x-python",
   "name": "python",
   "nbconvert_exporter": "python",
   "pygments_lexer": "ipython3",
   "version": "3.12.7"
  }
 },
 "nbformat": 4,
 "nbformat_minor": 5
}
